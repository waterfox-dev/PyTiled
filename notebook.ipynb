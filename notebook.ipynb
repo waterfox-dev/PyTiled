{
 "cells": [
  {
   "cell_type": "code",
   "execution_count": 1,
   "metadata": {},
   "outputs": [
    {
     "name": "stdout",
     "output_type": "stream",
     "text": [
      "Ground\n",
      "SecondGround\n",
      "Decoration\n"
     ]
    }
   ],
   "source": [
    "from source.map import Map\n",
    "\n",
    "a = Map('assets/example/tilesets/rpgMap.json')\n",
    "for element in a.layers :\n",
    "    print(element['name'])"
   ]
  }
 ],
 "metadata": {
  "kernelspec": {
   "display_name": "Python 3.10.4 ('.venv': venv)",
   "language": "python",
   "name": "python3"
  },
  "language_info": {
   "codemirror_mode": {
    "name": "ipython",
    "version": 3
   },
   "file_extension": ".py",
   "mimetype": "text/x-python",
   "name": "python",
   "nbconvert_exporter": "python",
   "pygments_lexer": "ipython3",
   "version": "3.10.4"
  },
  "orig_nbformat": 4,
  "vscode": {
   "interpreter": {
    "hash": "2bccd0ab1c9b42afeb0342f82a3823fa0fbe42fe64b526d27c49dbe96bda464d"
   }
  }
 },
 "nbformat": 4,
 "nbformat_minor": 2
}
